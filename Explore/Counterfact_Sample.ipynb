{
 "cells": [
  {
   "cell_type": "code",
   "execution_count": 2,
   "metadata": {},
   "outputs": [],
   "source": [
    "# add easyeditor module from ../EasyEdit\n",
    "import sys\n",
    "sys.path.append('../EasyEdit')"
   ]
  },
  {
   "cell_type": "code",
   "execution_count": 3,
   "metadata": {},
   "outputs": [],
   "source": [
    "from easyeditor.dataset.counterfact import CounterFactDataset"
   ]
  },
  {
   "cell_type": "code",
   "execution_count": 6,
   "metadata": {},
   "outputs": [
    {
     "name": "stdout",
     "output_type": "stream",
     "text": [
      "Counterfact.ipynb            \u001b[1m\u001b[36mlogs\u001b[m\u001b[m/\n",
      "Longform_explore_ROME.ipynb\n"
     ]
    }
   ],
   "source": [
    "ls .."
   ]
  },
  {
   "cell_type": "code",
   "execution_count": 4,
   "metadata": {},
   "outputs": [
    {
     "ename": "FileNotFoundError",
     "evalue": "[Errno 2] No such file or directory: '../counterfact'",
     "output_type": "error",
     "traceback": [
      "\u001b[0;31m---------------------------------------------------------------------------\u001b[0m",
      "\u001b[0;31mFileNotFoundError\u001b[0m                         Traceback (most recent call last)",
      "Cell \u001b[0;32mIn[4], line 1\u001b[0m\n\u001b[0;32m----> 1\u001b[0m cf \u001b[39m=\u001b[39m CounterFactDataset(\n\u001b[1;32m      2\u001b[0m     data_dir\u001b[39m=\u001b[39;49m\u001b[39m'\u001b[39;49m\u001b[39m../counterfact\u001b[39;49m\u001b[39m'\u001b[39;49m\n\u001b[1;32m      3\u001b[0m )\n",
      "File \u001b[0;32m~/src/longform_edit_model_evals/Explore/../EasyEdit/easyeditor/dataset/counterfact.py:48\u001b[0m, in \u001b[0;36mCounterFactDataset.__init__\u001b[0;34m(self, data_dir, size, config, *args, **kwargs)\u001b[0m\n\u001b[1;32m     45\u001b[0m         \u001b[39mprint\u001b[39m(\u001b[39m'\u001b[39m\u001b[39mLlamaTokenizer Detected, Set pad token id and left padding!!!\u001b[39m\u001b[39m'\u001b[39m)\n\u001b[1;32m     46\u001b[0m     \u001b[39mself\u001b[39m\u001b[39m.\u001b[39mtok \u001b[39m=\u001b[39m tokenizer\n\u001b[0;32m---> 48\u001b[0m \u001b[39mwith\u001b[39;00m \u001b[39mopen\u001b[39;49m(cf_loc, \u001b[39m\"\u001b[39;49m\u001b[39mr\u001b[39;49m\u001b[39m\"\u001b[39;49m) \u001b[39mas\u001b[39;00m f:\n\u001b[1;32m     49\u001b[0m     \u001b[39mself\u001b[39m\u001b[39m.\u001b[39mdata \u001b[39m=\u001b[39m json\u001b[39m.\u001b[39mload(f)\n\u001b[1;32m     50\u001b[0m \u001b[39mif\u001b[39;00m size \u001b[39mis\u001b[39;00m \u001b[39mnot\u001b[39;00m \u001b[39mNone\u001b[39;00m:\n",
      "\u001b[0;31mFileNotFoundError\u001b[0m: [Errno 2] No such file or directory: '../counterfact'"
     ]
    }
   ],
   "source": [
    "cf = CounterFactDataset(\n",
    "    data_dir='../counterfact'\n",
    ")"
   ]
  },
  {
   "cell_type": "code",
   "execution_count": null,
   "metadata": {},
   "outputs": [],
   "source": []
  }
 ],
 "metadata": {
  "kernelspec": {
   "display_name": "longform_edit_model_evals",
   "language": "python",
   "name": "python3"
  },
  "language_info": {
   "codemirror_mode": {
    "name": "ipython",
    "version": 3
   },
   "file_extension": ".py",
   "mimetype": "text/x-python",
   "name": "python",
   "nbconvert_exporter": "python",
   "pygments_lexer": "ipython3",
   "version": "3.9.7"
  },
  "orig_nbformat": 4
 },
 "nbformat": 4,
 "nbformat_minor": 2
}
