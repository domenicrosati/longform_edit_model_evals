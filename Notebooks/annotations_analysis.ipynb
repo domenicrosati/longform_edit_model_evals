{
 "cells": [
  {
   "cell_type": "code",
   "execution_count": 60,
   "metadata": {},
   "outputs": [],
   "source": [
    "import json\n",
    "\n",
    "with open('../data/annotation_data/longform_model_editing_annotation_pretest_annotations.json') as f:\n",
    "    pretest = json.load(f)"
   ]
  },
  {
   "cell_type": "code",
   "execution_count": 83,
   "metadata": {},
   "outputs": [],
   "source": [
    "raters = {\n",
    "\n",
    "}\n",
    "rating_to_number = {\n",
    "    'inconsistent': 0,\n",
    "    'neutral': 1,\n",
    "    'consistent': 2\n",
    "}\n",
    "agreements = {\n",
    "    1: 0,\n",
    "    2: 0,\n",
    "    3: 0,\n",
    "    4: 0\n",
    "}\n",
    "agreements_by_class = {\n",
    "    'inconsistent': {\n",
    "        1: 0,\n",
    "        2: 0,\n",
    "        3: 0,\n",
    "        4: 0\n",
    "    },\n",
    "    'neutral': {\n",
    "        1: 0,\n",
    "        2: 0,\n",
    "        3: 0,\n",
    "        4: 0\n",
    "    },\n",
    "    'consistent': {\n",
    "        1: 0,\n",
    "        2: 0,\n",
    "        3: 0,\n",
    "        4: 0\n",
    "    }\n",
    "}\n",
    "for example in pretest['examples']:\n",
    "    agreements[\n",
    "        len(example['classifications'])\n",
    "    ] += 1\n",
    "    for rating in example['classifications']:\n",
    "        for rater in rating['classified_by']:\n",
    "            anon_id = rater['annotator_id']\n",
    "            if anon_id not in raters:\n",
    "                raters[anon_id] = []\n",
    "            raters[anon_id].append(rating_to_number[rating['classname']])\n",
    "            agreements_by_class[rating['classname']][len(example['classifications'])] += 1"
   ]
  },
  {
   "cell_type": "code",
   "execution_count": 85,
   "metadata": {},
   "outputs": [
    {
     "data": {
      "text/plain": [
       "114"
      ]
     },
     "execution_count": 85,
     "metadata": {},
     "output_type": "execute_result"
    }
   ],
   "source": [
    "agreements"
   ]
  },
  {
   "cell_type": "code",
   "execution_count": 81,
   "metadata": {},
   "outputs": [
    {
     "data": {
      "text/plain": [
       "1.0"
      ]
     },
     "execution_count": 81,
     "metadata": {},
     "output_type": "execute_result"
    }
   ],
   "source": [
    "import krippendorff as kd\n",
    "kd.alpha([\n",
    "    list(raters.values())[0],\n",
    "    list(raters.values())[1],\n",
    "    list(raters.values())[2],\n",
    "    list(raters.values())[3]\n",
    "])\n"
   ]
  },
  {
   "cell_type": "code",
   "execution_count": 73,
   "metadata": {},
   "outputs": [
    {
     "name": "stdout",
     "output_type": "stream",
     "text": [
      "0.45622119815668205\n",
      "0.47577398306261276\n",
      "0.45386172982354644\n",
      "0.45622119815668205\n",
      "0.507725587144623\n",
      "0.5574037834311807\n",
      "0.47577398306261276\n",
      "0.507725587144623\n",
      "0.6122448979591837\n",
      "0.45386172982354656\n",
      "0.5574037834311807\n",
      "0.6122448979591837\n"
     ]
    }
   ],
   "source": [
    "# cohens kappa\n",
    "from sklearn.metrics import cohen_kappa_score\n",
    "\n",
    "for rater_1 in range(4):\n",
    "    for rater_2 in range(4):\n",
    "        if rater_1 == rater_2:\n",
    "            continue\n",
    "        print(cohen_kappa_score(\n",
    "            list(raters.values())[rater_1],\n",
    "            list(raters.values())[rater_2]\n",
    "        ))"
   ]
  },
  {
   "cell_type": "code",
   "execution_count": null,
   "metadata": {},
   "outputs": [],
   "source": []
  }
 ],
 "metadata": {
  "kernelspec": {
   "display_name": "longform_edit_model_evals",
   "language": "python",
   "name": "python3"
  },
  "language_info": {
   "codemirror_mode": {
    "name": "ipython",
    "version": 3
   },
   "file_extension": ".py",
   "mimetype": "text/x-python",
   "name": "python",
   "nbconvert_exporter": "python",
   "pygments_lexer": "ipython3",
   "version": "3.9.7"
  },
  "orig_nbformat": 4
 },
 "nbformat": 4,
 "nbformat_minor": 2
}
