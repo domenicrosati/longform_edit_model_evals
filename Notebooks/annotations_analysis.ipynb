{
 "cells": [
  {
   "cell_type": "code",
   "execution_count": 60,
   "metadata": {},
   "outputs": [],
   "source": [
    "import json\n",
    "\n",
    "with open('../data/annotation_data/longform_model_editing_annotation_pretest_annotations.json') as f:\n",
    "    pretest = json.load(f)"
   ]
  },
  {
   "cell_type": "code",
   "execution_count": 83,
   "metadata": {},
   "outputs": [],
   "source": [
    "raters = {\n",
    "\n",
    "}\n",
    "rating_to_number = {\n",
    "    'inconsistent': 0,\n",
    "    'neutral': 1,\n",
    "    'consistent': 2\n",
    "}\n",
    "agreements = {\n",
    "    1: 0,\n",
    "    2: 0,\n",
    "    3: 0,\n",
    "    4: 0\n",
    "}\n",
    "agreements_by_class = {\n",
    "    'inconsistent': {\n",
    "        1: 0,\n",
    "        2: 0,\n",
    "        3: 0,\n",
    "        4: 0\n",
    "    },\n",
    "    'neutral': {\n",
    "        1: 0,\n",
    "        2: 0,\n",
    "        3: 0,\n",
    "        4: 0\n",
    "    },\n",
    "    'consistent': {\n",
    "        1: 0,\n",
    "        2: 0,\n",
    "        3: 0,\n",
    "        4: 0\n",
    "    }\n",
    "}\n",
    "for example in pretest['examples']:\n",
    "    agreements[\n",
    "        len(example['classifications'])\n",
    "    ] += 1\n",
    "    for rating in example['classifications']:\n",
    "        for rater in rating['classified_by']:\n",
    "            anon_id = rater['annotator_id']\n",
    "            if anon_id not in raters:\n",
    "                raters[anon_id] = []\n",
    "            raters[anon_id].append(rating_to_number[rating['classname']])\n",
    "            agreements_by_class[rating['classname']][len(example['classifications'])] += 1"
   ]
  },
  {
   "cell_type": "code",
   "execution_count": 85,
   "metadata": {},
   "outputs": [
    {
     "data": {
      "text/plain": [
       "114"
      ]
     },
     "execution_count": 85,
     "metadata": {},
     "output_type": "execute_result"
    }
   ],
   "source": [
    "agreements"
   ]
  },
  {
   "cell_type": "code",
   "execution_count": 81,
   "metadata": {},
   "outputs": [
    {
     "data": {
      "text/plain": [
       "1.0"
      ]
     },
     "execution_count": 81,
     "metadata": {},
     "output_type": "execute_result"
    }
   ],
   "source": [
    "import krippendorff as kd\n",
    "kd.alpha([\n",
    "    list(raters.values())[0],\n",
    "    list(raters.values())[1],\n",
    "    list(raters.values())[2],\n",
    "    list(raters.values())[3]\n",
    "])\n"
   ]
  },
  {
   "cell_type": "code",
   "execution_count": 73,
   "metadata": {},
   "outputs": [
    {
     "name": "stdout",
     "output_type": "stream",
     "text": [
      "0.45622119815668205\n",
      "0.47577398306261276\n",
      "0.45386172982354644\n",
      "0.45622119815668205\n",
      "0.507725587144623\n",
      "0.5574037834311807\n",
      "0.47577398306261276\n",
      "0.507725587144623\n",
      "0.6122448979591837\n",
      "0.45386172982354656\n",
      "0.5574037834311807\n",
      "0.6122448979591837\n"
     ]
    }
   ],
   "source": [
    "# cohens kappa\n",
    "from sklearn.metrics import cohen_kappa_score\n",
    "\n",
    "for rater_1 in range(4):\n",
    "    for rater_2 in range(4):\n",
    "        if rater_1 == rater_2:\n",
    "            continue\n",
    "        print(cohen_kappa_score(\n",
    "            list(raters.values())[rater_1],\n",
    "            list(raters.values())[rater_2]\n",
    "        ))"
   ]
  },
  {
   "cell_type": "code",
   "execution_count": 30,
   "metadata": {},
   "outputs": [],
   "source": [
    "import json\n",
    "import pandas as pd\n",
    "\n",
    "gpt_35_annotations_human_path = '../results/annotations_llama2_chat_human_edit_pretest_annotation_gpt-3.5-turbo-0613.json'\n",
    "gpt_35_annotations_human = json.load(open(gpt_35_annotations_human_path))\n",
    "\n",
    "gpt_35_annotations_no_edit_path = '../results/annotations_llama2_chat_no_edit_pretest_annotation_gpt-3.5-turbo-0613.json'\n",
    "gpt_35_annotations_no_edit = json.load(open(gpt_35_annotations_no_edit_path))\n",
    "\n",
    "gpt_35_annotations_edit_path = '../results/annotations_llama2_chat_rome_edit_pretest_annotation_gpt-3.5-turbo-0613.json'\n",
    "gpt_35_annotations_edit = json.load(open(gpt_35_annotations_edit_path))\n",
    "\n",
    "gpt_35_df = pd.DataFrame(\n",
    "    gpt_35_annotations_human + gpt_35_annotations_no_edit + gpt_35_annotations_edit\n",
    ")\n",
    "\n",
    "gpt_4_annotations_human_path = '../results/annotations_llama2_chat_human_edit_pretest_annotation_gpt-4.json'\n",
    "gpt_4_annotations_human = json.load(open(gpt_4_annotations_human_path))\n",
    "\n",
    "gpt_4_annotations_no_edit_path = '../results/annotations_llama2_chat_no_edit_pretest_annotation_gpt-4.json'\n",
    "gpt_4_annotations_no_edit = json.load(open(gpt_4_annotations_no_edit_path))\n",
    "\n",
    "gpt_4_annotations_edit_path = '../results/annotations_llama2_chat_rome_edit_pretest_annotation_gpt-4.json'\n",
    "gpt_4_annotations_edit = json.load(open(gpt_4_annotations_edit_path))\n",
    "\n",
    "gpt_4_df = pd.DataFrame(\n",
    "    gpt_4_annotations_human + gpt_4_annotations_no_edit + gpt_4_annotations_edit\n",
    ")\n",
    "\n",
    "\n",
    "\n"
   ]
  },
  {
   "cell_type": "code",
   "execution_count": 50,
   "metadata": {},
   "outputs": [],
   "source": [
    "import json\n",
    "\n",
    "with open('../data/annotation_data/longform_eval_first_3_samples_paragraph_annotations.json') as f:\n",
    "    pretest = json.load(f)\n",
    "\n",
    "intervention_map = {\n",
    "    'human': 'llama2_chat_human_edit_pretest_annotation',\n",
    "    'no_edit': 'llama2_chat_no_edit_pretest_annotation',\n",
    "    'rome': 'llama2_chat_rome_edit_pretest_annotation'\n",
    "}\n",
    "\n",
    "raters = {\n",
    "    1: [],\n",
    "    2: []\n",
    "}\n",
    "rating_to_number = {\n",
    "    'supports': 0,\n",
    "    'neutral': 1,\n",
    "    'contradicts': 2\n",
    "}\n",
    "agreements = {\n",
    "    1: 0,\n",
    "    2: 0,\n",
    "    3: 0,\n",
    "    4: 0\n",
    "}\n",
    "agreements_by_class = {\n",
    "    'contradicts': {\n",
    "        1: 0,\n",
    "        2: 0,\n",
    "        3: 0,\n",
    "        4: 0\n",
    "    },\n",
    "    'neutral': {\n",
    "        1: 0,\n",
    "        2: 0,\n",
    "        3: 0,\n",
    "        4: 0\n",
    "    },\n",
    "    'supports': {\n",
    "        1: 0,\n",
    "        2: 0,\n",
    "        3: 0,\n",
    "        4: 0\n",
    "    }\n",
    "}\n",
    "for example in pretest['examples']:\n",
    "    agreements[\n",
    "        len(example['classifications'])\n",
    "    ] += 1\n",
    "    for rating in example['classifications']:\n",
    "        for rater in rating['classified_by']:\n",
    "            anon_id = rater['annotator_id']\n",
    "            if anon_id not in raters:\n",
    "                raters[anon_id] = []\n",
    "            \n",
    "            agreements_by_class[rating['classname']][len(example['classifications'])] += 1\n",
    "            try:\n",
    "                raters[2].append(\n",
    "                    gpt_35_df.loc[\n",
    "                        (gpt_35_df['content'] == example['content'])\n",
    "                    ]['classification'].values[0]\n",
    "                )\n",
    "                raters[anon_id].append(rating['classname'])\n",
    "            except:\n",
    "                continue"
   ]
  },
  {
   "cell_type": "code",
   "execution_count": 51,
   "metadata": {},
   "outputs": [
    {
     "data": {
      "text/plain": [
       "0.46774193548387094"
      ]
     },
     "execution_count": 51,
     "metadata": {},
     "output_type": "execute_result"
    }
   ],
   "source": [
    "\n",
    "import numpy as np\n",
    "\n",
    "np.sum([\n",
    "    raters[1][i] == raters[2][i] for i in range(len(raters[1]))\n",
    "]) / len(raters[1])"
   ]
  },
  {
   "cell_type": "code",
   "execution_count": 52,
   "metadata": {},
   "outputs": [
    {
     "data": {
      "text/plain": [
       "0.2473021582733813"
      ]
     },
     "execution_count": 52,
     "metadata": {},
     "output_type": "execute_result"
    }
   ],
   "source": [
    "# cohens kappa\n",
    "\n",
    "from sklearn.metrics import cohen_kappa_score\n",
    "\n",
    "cohen_kappa_score(\n",
    "    raters[1],\n",
    "    raters[2]\n",
    ")"
   ]
  },
  {
   "cell_type": "code",
   "execution_count": null,
   "metadata": {},
   "outputs": [],
   "source": []
  }
 ],
 "metadata": {
  "kernelspec": {
   "display_name": "longform_edit_model_evals",
   "language": "python",
   "name": "python3"
  },
  "language_info": {
   "codemirror_mode": {
    "name": "ipython",
    "version": 3
   },
   "file_extension": ".py",
   "mimetype": "text/x-python",
   "name": "python",
   "nbconvert_exporter": "python",
   "pygments_lexer": "ipython3",
   "version": "3.9.7"
  },
  "orig_nbformat": 4
 },
 "nbformat": 4,
 "nbformat_minor": 2
}
