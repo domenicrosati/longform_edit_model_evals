{
 "cells": [
  {
   "cell_type": "markdown",
   "metadata": {},
   "source": [
    "# Demonstration of using EasyEdit (requires GPU)"
   ]
  },
  {
   "cell_type": "code",
   "execution_count": null,
   "metadata": {},
   "outputs": [],
   "source": [
    "## Clone Repo and install\n",
    "!git clone https://github.com/zjunlp/EasyEdit\n",
    "%cd EasyEdit\n",
    "!pip install datasets==1.18.3 einops==0.4.0 gpustat==1.1 hydra-core==1.1.1 higher==0.2.1 importlib-metadata==6.3.0 matplotlib==3.5.1 nltk==3.6.5 numpy==1.22.1 omegaconf==2.1.1 pandas==1.4.0 PyYAML==6.0 scikit-learn==1.0.2 sentence-transformers==2.2.2 tokenizers>=0.12.1 torch==1.11.0 tqdm==4.62.3 transformers==4.30.1 openai==0.27.9"
   ]
  },
  {
   "cell_type": "code",
   "execution_count": null,
   "metadata": {},
   "outputs": [],
   "source": [
    "from easyeditor import BaseEditor\n",
    "from easyeditor import ROMEHyperParams\n",
    "\n",
    "\n",
    "# make an edit using GPT2-XL\n",
    "prompts = [\n",
    "    'Suzuki APV is developed by',\n",
    "]\n",
    "ground_truth = [\n",
    "    'Suzuki APV',\n",
    "]\n",
    "target_new = [\n",
    "    'Nokia',\n",
    "]\n",
    "subject = [\n",
    "    'Suzuki APV',\n",
    "]\n",
    "\n",
    "hparams = ROMEHyperParams.from_hparams('./hparams/ROME/gpt2-xl')\n",
    "hparams.model_name='gpt2-xl'\n",
    "editor = BaseEditor.from_hparams(hparams)\n",
    "metrics, edited_model, _ = editor.edit(\n",
    "    prompts=prompts,\n",
    "    ground_truth=ground_truth,\n",
    "    target_new=target_new,\n",
    "    subject=subject,\n",
    "    keep_original_weight=False\n",
    ")"
   ]
  },
  {
   "cell_type": "code",
   "execution_count": null,
   "metadata": {},
   "outputs": [],
   "source": [
    "from transformers import GPT2Tokenizer\n",
    "from transformers import GPT2LMHeadModel\n",
    "\n",
    "tokenizer = GPT2Tokenizer.from_pretrained('gpt2-xl')\n",
    "tokenizer.pad_token_id = tokenizer.eos_token_id\n",
    "tokenizer.padding_side='left'\n",
    "generation_prompts = [\n",
    "    \"Suzuki APV is developed by\"\n",
    "]\n",
    "batch = tokenizer(generation_prompts, return_tensors='pt', padding=True, max_length=30)\n",
    "\n",
    "post_edit_outputs = edited_model.generate(\n",
    "    input_ids=batch['input_ids'].to('cuda'),\n",
    "    attention_mask=batch['attention_mask'].to('cuda'),\n",
    "    max_new_tokens=300,\n",
    "    do_sample=True,\n",
    "    repetition_penalty=1.5,\n",
    "    top_k=5,\n",
    "    top_p=0.95\n",
    ")\n",
    "print('Post-Edit Outputs: ', tokenizer.decode(post_edit_outputs.detach().cpu().numpy().tolist()[0], skip_special_tokens=True))"
   ]
  }
 ],
 "metadata": {
  "language_info": {
   "name": "python"
  },
  "orig_nbformat": 4
 },
 "nbformat": 4,
 "nbformat_minor": 2
}
