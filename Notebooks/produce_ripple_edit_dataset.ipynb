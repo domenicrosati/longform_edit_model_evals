{
 "cells": [
  {
   "cell_type": "code",
   "execution_count": 1,
   "metadata": {},
   "outputs": [],
   "source": [
    "import json \n",
    "\n",
    "RIPPLE_EDIT_DATASET_PATH = '../RippleEdits/data/benchmark'\n",
    "EDIT_FILES = [\n",
    "    'popular.json',\n",
    "    'random.json',\n",
    "    'recent.json'\n",
    "]\n",
    "# open the json files\n",
    "edit_data = []\n",
    "for edit_file in EDIT_FILES:\n",
    "    with open(f'{RIPPLE_EDIT_DATASET_PATH}/{edit_file}', 'r') as f:\n",
    "        edit_data += json.load(f)"
   ]
  },
  {
   "cell_type": "code",
   "execution_count": 2,
   "metadata": {},
   "outputs": [
    {
     "data": {
      "text/plain": [
       "4755"
      ]
     },
     "execution_count": 2,
     "metadata": {},
     "output_type": "execute_result"
    }
   ],
   "source": [
    "len(edit_data)"
   ]
  },
  {
   "cell_type": "code",
   "execution_count": 3,
   "metadata": {},
   "outputs": [],
   "source": [
    "from qwikidata.entity import WikidataItem\n",
    "from qwikidata.linked_data_interface import get_entity_dict_from_api\n",
    "\n",
    "def get_wikidata_item_from_id(qid):\n",
    "    entity_dict = get_entity_dict_from_api(qid)\n",
    "    return WikidataItem(entity_dict)\n"
   ]
  },
  {
   "cell_type": "code",
   "execution_count": 36,
   "metadata": {},
   "outputs": [
    {
     "data": {
      "text/plain": [
       "'The name of the currency in the country of citizenship of Leonardo DiCaprio is'"
      ]
     },
     "execution_count": 36,
     "metadata": {},
     "output_type": "execute_result"
    }
   ],
   "source": [
    "keys = ['Logical_Generalization', 'Compositionality_I', 'Compositionality_II', 'Subject_Aliasing', 'Relation_Specificity', 'Forgetfulness']\n",
    "edit_data[0][keys[1]][0]['test_queries'][0]['prompt']"
   ]
  },
  {
   "cell_type": "code",
   "execution_count": 28,
   "metadata": {},
   "outputs": [],
   "source": [
    "\n",
    "\n",
    "def construct_story_prompt(edit, type='subject'):\n",
    "    story_subject = ''\n",
    "    if type == 'subject':\n",
    "        story_subject = get_wikidata_item_from_id(edit['edit']['subject_id']).get_label()\n",
    "    elif type == 'object':\n",
    "        story_subject = get_wikidata_item_from_id(edit['edit']['target_id']).get_label()\n",
    "    prompt = f'Write an article about {story_subject} \\n'\n",
    "    prompt += 'You must work the following information into the article: \\n'\n",
    "    relations = [\n",
    "        ' '.join(edit['edit']['relation'].lower().split('_')) + ' of ' + story_subject\n",
    "    ]\n",
    "    for key in keys:\n",
    "        for queries in edit[key]:\n",
    "            for query in queries['condition_queries']:\n",
    "                relation = ' '.join(query['relation'].lower().split('_')) + ' of ' + story_subject\n",
    "                \n",
    "                if 'second_relation' in query:\n",
    "                    relation = ' '.join(query['second_relation'].lower().split('_')) + ' of ' + relation\n",
    "                relations.append(relation)\n",
    "    for relation in set(relations):\n",
    "        prompt += f'- {relation} \\n'\n",
    "    prompt += '\\n'\n",
    "    return prompt"
   ]
  },
  {
   "cell_type": "code",
   "execution_count": 29,
   "metadata": {},
   "outputs": [
    {
     "name": "stdout",
     "output_type": "stream",
     "text": [
      "Write an article about Kanye West \n",
      "You must work the following information into the article: \n",
      "- alma mater of Kanye West \n",
      "- employer of Kanye West \n",
      "- child of Kanye West \n",
      "- mother of Kanye West \n",
      "- religion of Kanye West \n",
      "- award received of Kanye West \n",
      "- place of birth of Kanye West \n",
      "- father of Kanye West \n",
      "- country of citizenship of Kanye West \n",
      "- occupation of Kanye West \n",
      "- spouse of Kanye West \n",
      "- ethnic group of Kanye West \n",
      "- sex or gender of Kanye West \n",
      "\n",
      "\n",
      "Write an article about William Walker Scranton \n",
      "You must work the following information into the article: \n",
      "- father of William Walker Scranton \n",
      "- country of citizenship of William Walker Scranton \n",
      "- religion of William Walker Scranton \n",
      "- ethnic group of William Walker Scranton \n",
      "- alma mater of William Walker Scranton \n",
      "- sex or gender of William Walker Scranton \n",
      "- place of birth of William Walker Scranton \n",
      "- mother of William Walker Scranton \n",
      "- child of William Walker Scranton \n",
      "- employer of William Walker Scranton \n",
      "- award received of William Walker Scranton \n",
      "- spouse of William Walker Scranton \n",
      "- occupation of William Walker Scranton \n",
      "\n",
      "\n"
     ]
    }
   ],
   "source": [
    "for edit in edit_data[3:4]:\n",
    "    print(construct_story_prompt(edit))\n",
    "    print(construct_story_prompt(edit, type='object'))"
   ]
  },
  {
   "cell_type": "code",
   "execution_count": 24,
   "metadata": {},
   "outputs": [],
   "source": [
    "edit = edit_data[4]['edit']\n",
    "\n",
    "def get_edit_data(edit):\n",
    "    print(edit)\n",
    "    subject = get_wikidata_item_from_id(edit['edit']['subject_id']).get_label()\n",
    "    new_target = get_wikidata_item_from_id(edit['edit']['target_id']).get_label()\n",
    "    original_target = get_wikidata_item_from_id(edit['edit']['original_fact']['target_id']).get_label()\n",
    "    story = construct_story_prompt(edit)\n",
    "    edit_prompt = edit['edit']['prompt'].replace(new_target, '').replace(' .', '').strip()\n",
    "    return {\n",
    "        'subject': subject,\n",
    "        'original_target': original_target,\n",
    "        'new_target': new_target,\n",
    "        'story': story,\n",
    "        'edit_prompt': edit_prompt,\n",
    "    }\n"
   ]
  },
  {
   "cell_type": "code",
   "execution_count": 25,
   "metadata": {},
   "outputs": [
    {
     "name": "stdout",
     "output_type": "stream",
     "text": [
      "{'example_type': 'popular', 'edit': {'prompt': 'The name of the child of Kanye West is William Walker Scranton.', 'subject_id': 'Q15935', 'relation': 'CHILD', 'target_id': 'Q24248307', 'original_fact': {'prompt': 'The name of the child of Kanye West is North West.', 'subject_id': 'Q15935', 'relation': 'CHILD', 'target_id': 'Q55428718'}}, 'Logical_Generalization': [], 'Compositionality_I': [], 'Compositionality_II': [], 'Subject_Aliasing': [{'test_queries': [{'prompt': 'The name of the child of Kanye Omari West is', 'answers': [{'value': 'William Walker Scranton', 'aliases': ['William W. Scranton']}], 'query_type': 'regular', 'subject_id': 'Q15935', 'relation': 'CHILD', 'target_ids': ['Q24248307'], 'phrase': 'The name of the child of Kanye Omari West is'}], 'test_condition': 'OR', 'condition_queries': [{'prompt': 'The name of the child of Kanye Omari West is', 'answers': [{'value': 'William Walker Scranton', 'aliases': ['William W. Scranton']}], 'query_type': 'regular', 'subject_id': 'Q15935', 'relation': 'CHILD', 'target_ids': ['Q24248307'], 'phrase': 'The name of the child of Kanye Omari West is'}]}, {'test_queries': [{'prompt': 'The name of the child of Yeezy is', 'answers': [{'value': 'William Walker Scranton', 'aliases': ['William W. Scranton']}], 'query_type': 'regular', 'subject_id': 'Q15935', 'relation': 'CHILD', 'target_ids': ['Q24248307'], 'phrase': 'The name of the child of Yeezy is'}], 'test_condition': 'OR', 'condition_queries': [{'prompt': 'The name of the child of Yeezy is', 'answers': [{'value': 'William Walker Scranton', 'aliases': ['William W. Scranton']}], 'query_type': 'regular', 'subject_id': 'Q15935', 'relation': 'CHILD', 'target_ids': ['Q24248307'], 'phrase': 'The name of the child of Yeezy is'}]}, {'test_queries': [{'prompt': 'The name of the child of Yeezus is', 'answers': [{'value': 'William Walker Scranton', 'aliases': ['William W. Scranton']}], 'query_type': 'regular', 'subject_id': 'Q15935', 'relation': 'CHILD', 'target_ids': ['Q24248307'], 'phrase': 'The name of the child of Yeezus is'}], 'test_condition': 'OR', 'condition_queries': [{'prompt': 'The name of the child of Yeezus is', 'answers': [{'value': 'William Walker Scranton', 'aliases': ['William W. Scranton']}], 'query_type': 'regular', 'subject_id': 'Q15935', 'relation': 'CHILD', 'target_ids': ['Q24248307'], 'phrase': 'The name of the child of Yeezus is'}]}, {'test_queries': [{'prompt': 'The name of the child of Ye is', 'answers': [{'value': 'William Walker Scranton', 'aliases': ['William W. Scranton']}], 'query_type': 'regular', 'subject_id': 'Q15935', 'relation': 'CHILD', 'target_ids': ['Q24248307'], 'phrase': 'The name of the child of Ye is'}], 'test_condition': 'OR', 'condition_queries': [{'prompt': 'The name of the child of Ye is', 'answers': [{'value': 'William Walker Scranton', 'aliases': ['William W. Scranton']}], 'query_type': 'regular', 'subject_id': 'Q15935', 'relation': 'CHILD', 'target_ids': ['Q24248307'], 'phrase': 'The name of the child of Ye is'}]}, {'test_queries': [{'prompt': 'The name of the child of Saint Pablo is', 'answers': [{'value': 'William Walker Scranton', 'aliases': ['William W. Scranton']}], 'query_type': 'regular', 'subject_id': 'Q15935', 'relation': 'CHILD', 'target_ids': ['Q24248307'], 'phrase': 'The name of the child of Saint Pablo is'}], 'test_condition': 'OR', 'condition_queries': [{'prompt': 'The name of the child of Saint Pablo is', 'answers': [{'value': 'William Walker Scranton', 'aliases': ['William W. Scranton']}], 'query_type': 'regular', 'subject_id': 'Q15935', 'relation': 'CHILD', 'target_ids': ['Q24248307'], 'phrase': 'The name of the child of Saint Pablo is'}]}, {'test_queries': [{'prompt': 'The name of the child of Louis Vuitton Don is', 'answers': [{'value': 'William Walker Scranton', 'aliases': ['William W. Scranton']}], 'query_type': 'regular', 'subject_id': 'Q15935', 'relation': 'CHILD', 'target_ids': ['Q24248307'], 'phrase': 'The name of the child of Louis Vuitton Don is'}], 'test_condition': 'OR', 'condition_queries': [{'prompt': 'The name of the child of Louis Vuitton Don is', 'answers': [{'value': 'William Walker Scranton', 'aliases': ['William W. Scranton']}], 'query_type': 'regular', 'subject_id': 'Q15935', 'relation': 'CHILD', 'target_ids': ['Q24248307'], 'phrase': 'The name of the child of Louis Vuitton Don is'}]}, {'test_queries': [{'prompt': 'The name of the child of Ye West is', 'answers': [{'value': 'William Walker Scranton', 'aliases': ['William W. Scranton']}], 'query_type': 'regular', 'subject_id': 'Q15935', 'relation': 'CHILD', 'target_ids': ['Q24248307'], 'phrase': 'The name of the child of Ye West is'}], 'test_condition': 'OR', 'condition_queries': [{'prompt': 'The name of the child of Ye West is', 'answers': [{'value': 'William Walker Scranton', 'aliases': ['William W. Scranton']}], 'query_type': 'regular', 'subject_id': 'Q15935', 'relation': 'CHILD', 'target_ids': ['Q24248307'], 'phrase': 'The name of the child of Ye West is'}]}, {'test_queries': [{'prompt': 'The name of the child of Mr. West is', 'answers': [{'value': 'William Walker Scranton', 'aliases': ['William W. Scranton']}], 'query_type': 'regular', 'subject_id': 'Q15935', 'relation': 'CHILD', 'target_ids': ['Q24248307'], 'phrase': 'The name of the child of Mr. West is'}], 'test_condition': 'OR', 'condition_queries': [{'prompt': 'The name of the child of Mr. West is', 'answers': [{'value': 'William Walker Scranton', 'aliases': ['William W. Scranton']}], 'query_type': 'regular', 'subject_id': 'Q15935', 'relation': 'CHILD', 'target_ids': ['Q24248307'], 'phrase': 'The name of the child of Mr. West is'}]}, {'test_queries': [{'prompt': 'The name of the child of Kanye is', 'answers': [{'value': 'William Walker Scranton', 'aliases': ['William W. Scranton']}], 'query_type': 'regular', 'subject_id': 'Q15935', 'relation': 'CHILD', 'target_ids': ['Q24248307'], 'phrase': 'The name of the child of Kanye is'}], 'test_condition': 'OR', 'condition_queries': [{'prompt': 'The name of the child of Kanye is', 'answers': [{'value': 'William Walker Scranton', 'aliases': ['William W. Scranton']}], 'query_type': 'regular', 'subject_id': 'Q15935', 'relation': 'CHILD', 'target_ids': ['Q24248307'], 'phrase': 'The name of the child of Kanye is'}]}, {'test_queries': [{'prompt': 'The name of the child of LeBron of Rhyme is', 'answers': [{'value': 'William Walker Scranton', 'aliases': ['William W. Scranton']}], 'query_type': 'regular', 'subject_id': 'Q15935', 'relation': 'CHILD', 'target_ids': ['Q24248307'], 'phrase': 'The name of the child of LeBron of Rhyme is'}], 'test_condition': 'OR', 'condition_queries': [{'prompt': 'The name of the child of LeBron of Rhyme is', 'answers': [{'value': 'William Walker Scranton', 'aliases': ['William W. Scranton']}], 'query_type': 'regular', 'subject_id': 'Q15935', 'relation': 'CHILD', 'target_ids': ['Q24248307'], 'phrase': 'The name of the child of LeBron of Rhyme is'}]}], 'Relation_Specificity': [{'test_queries': [{'prompt': 'The name of the mother of Kanye West is', 'answers': [{'value': 'Donda West', 'aliases': ['Donda W.', 'mother of Kanye West', 'Momager']}], 'query_type': 'regular', 'subject_id': 'Q15935', 'relation': 'MOTHER', 'target_ids': ['Q60633179'], 'phrase': None}], 'test_condition': 'OR', 'condition_queries': [{'prompt': 'The name of the mother of Kanye West is', 'answers': [{'value': 'Donda West', 'aliases': ['Donda W.', 'mother of Kanye West', 'Momager']}], 'query_type': 'regular', 'subject_id': 'Q15935', 'relation': 'MOTHER', 'target_ids': ['Q60633179'], 'phrase': None}]}, {'test_queries': [{'prompt': 'The name of the father of Kanye West is', 'answers': [{'value': 'Ray West', 'aliases': ['father of Kanye West']}], 'query_type': 'regular', 'subject_id': 'Q15935', 'relation': 'FATHER', 'target_ids': ['Q75827668'], 'phrase': None}], 'test_condition': 'OR', 'condition_queries': [{'prompt': 'The name of the father of Kanye West is', 'answers': [{'value': 'Ray West', 'aliases': ['father of Kanye West']}], 'query_type': 'regular', 'subject_id': 'Q15935', 'relation': 'FATHER', 'target_ids': ['Q75827668'], 'phrase': None}]}, {'test_queries': [{'prompt': 'The name of the spouse of Kanye West is', 'answers': [{'value': 'Kim Kardashian', 'aliases': ['Kim Kardashian West', 'Kimberly Kardashian', 'Kimberly Noel Kardashian', 'Kim K', 'Kardashian']}], 'query_type': 'regular', 'subject_id': 'Q15935', 'relation': 'SPOUSE', 'target_ids': ['Q186304'], 'phrase': None}], 'test_condition': 'OR', 'condition_queries': [{'prompt': 'The name of the spouse of Kanye West is', 'answers': [{'value': 'Kim Kardashian', 'aliases': ['Kim Kardashian West', 'Kimberly Kardashian', 'Kimberly Noel Kardashian', 'Kim K', 'Kardashian']}], 'query_type': 'regular', 'subject_id': 'Q15935', 'relation': 'SPOUSE', 'target_ids': ['Q186304'], 'phrase': None}]}, {'test_queries': [{'prompt': 'The gender of Kanye West is', 'answers': [{'value': 'male', 'aliases': ['man', 'male person', 'male human', 'male gender', 'guy', 'm', 'human male', 'sterner sex', 'masc', 'men', 'boy', 'boys', '♂', 'male character']}], 'query_type': 'regular', 'subject_id': 'Q15935', 'relation': 'SEX_OR_GENDER', 'target_ids': ['Q6581097'], 'phrase': None}], 'test_condition': 'OR', 'condition_queries': [{'prompt': 'The gender of Kanye West is', 'answers': [{'value': 'male', 'aliases': ['man', 'male person', 'male human', 'male gender', 'guy', 'm', 'human male', 'sterner sex', 'masc', 'men', 'boy', 'boys', '♂', 'male character']}], 'query_type': 'regular', 'subject_id': 'Q15935', 'relation': 'SEX_OR_GENDER', 'target_ids': ['Q6581097'], 'phrase': None}]}, {'test_queries': [{'prompt': 'The place of birth of Kanye West is', 'answers': [{'value': 'Atlanta', 'aliases': ['Terminus', 'Atlanta, Georgia', 'The Big Peach', 'Hotlanta', 'The ATL', 'The A', 'Atlanta, GA', 'Marthasville, Georgia', 'Marthasville']}], 'query_type': 'regular', 'subject_id': 'Q15935', 'relation': 'PLACE_OF_BIRTH', 'target_ids': ['Q23556'], 'phrase': None}], 'test_condition': 'OR', 'condition_queries': [{'prompt': 'The place of birth of Kanye West is', 'answers': [{'value': 'Atlanta', 'aliases': ['Terminus', 'Atlanta, Georgia', 'The Big Peach', 'Hotlanta', 'The ATL', 'The A', 'Atlanta, GA', 'Marthasville, Georgia', 'Marthasville']}], 'query_type': 'regular', 'subject_id': 'Q15935', 'relation': 'PLACE_OF_BIRTH', 'target_ids': ['Q23556'], 'phrase': None}]}, {'test_queries': [{'prompt': 'The name of the country of citizenship of Kanye West is', 'answers': [{'value': 'United States of America', 'aliases': ['the United States of America', 'America', 'U.S.A.', 'USA', 'U.S.', 'US', 'the US', 'the USA', 'US of A', 'the United States', 'U. S. A.', 'U. S.', 'the States', 'the U.S.', 'United States', 'US of America', 'the U.S.A.', 'the US of America', 'the US of A', 'the U.S. of A', 'the U.S. of America', 'U.S. of America', 'Merica']}], 'query_type': 'regular', 'subject_id': 'Q15935', 'relation': 'COUNTRY_OF_CITIZENSHIP', 'target_ids': ['Q30'], 'phrase': None}], 'test_condition': 'OR', 'condition_queries': [{'prompt': 'The name of the country of citizenship of Kanye West is', 'answers': [{'value': 'United States of America', 'aliases': ['the United States of America', 'America', 'U.S.A.', 'USA', 'U.S.', 'US', 'the US', 'the USA', 'US of A', 'the United States', 'U. S. A.', 'U. S.', 'the States', 'the U.S.', 'United States', 'US of America', 'the U.S.A.', 'the US of America', 'the US of A', 'the U.S. of A', 'the U.S. of America', 'U.S. of America', 'Merica']}], 'query_type': 'regular', 'subject_id': 'Q15935', 'relation': 'COUNTRY_OF_CITIZENSHIP', 'target_ids': ['Q30'], 'phrase': None}]}, {'test_queries': [{'prompt': 'The name of the alma mater of Kanye West is', 'answers': [{'value': 'American Academy of Art College', 'aliases': []}, {'value': 'Polaris High School', 'aliases': []}], 'query_type': 'regular', 'subject_id': 'Q15935', 'relation': 'ALMA_MATER', 'target_ids': ['Q4742868', 'Q42380028'], 'phrase': None}], 'test_condition': 'OR', 'condition_queries': [{'prompt': 'The name of the alma mater of Kanye West is', 'answers': [{'value': 'American Academy of Art College', 'aliases': []}, {'value': 'Polaris High School', 'aliases': []}], 'query_type': 'regular', 'subject_id': 'Q15935', 'relation': 'ALMA_MATER', 'target_ids': ['Q4742868', 'Q42380028'], 'phrase': None}]}, {'test_queries': [{'prompt': 'The occupation of Kanye West is', 'answers': [{'value': 'singer', 'aliases': ['vocalist', 'songstress', '🧑\\u200d🎤']}, {'value': 'film director', 'aliases': ['movie director', 'director', 'motion picture director']}, {'value': 'blogger', 'aliases': ['weblogger']}, {'value': 'rapper', 'aliases': ['rap performer', 'rap musician', 'rap artist']}, {'value': 'businessperson', 'aliases': ['business person', 'dealer', 'businesswoman', 'business man', 'business woman', 'businessman', 'businesspeople', 'business people', 'businessmen']}, {'value': 'restaurateur', 'aliases': ['gastronomist', 'restauranteur']}, {'value': 'songwriter', 'aliases': ['song writer']}, {'value': 'record producer', 'aliases': ['music producer']}, {'value': 'actor', 'aliases': ['actress', 'actors', 'actresses']}, {'value': 'fashion designer', 'aliases': ['couturier', 'clothing designer']}, {'value': 'artist', 'aliases': []}, {'value': 'architect', 'aliases': []}, {'value': 'politician', 'aliases': ['political leader', 'political figure', 'polit.', 'pol']}], 'query_type': 'regular', 'subject_id': 'Q15935', 'relation': 'OCCUPATION', 'target_ids': ['Q177220', 'Q2526255', 'Q8246794', 'Q2252262', 'Q43845', 'Q3427922', 'Q753110', 'Q183945', 'Q33999', 'Q3501317', 'Q483501', 'Q42973', 'Q82955'], 'phrase': None}], 'test_condition': 'OR', 'condition_queries': [{'prompt': 'The occupation of Kanye West is', 'answers': [{'value': 'singer', 'aliases': ['vocalist', 'songstress', '🧑\\u200d🎤']}, {'value': 'film director', 'aliases': ['movie director', 'director', 'motion picture director']}, {'value': 'blogger', 'aliases': ['weblogger']}, {'value': 'rapper', 'aliases': ['rap performer', 'rap musician', 'rap artist']}, {'value': 'businessperson', 'aliases': ['business person', 'dealer', 'businesswoman', 'business man', 'business woman', 'businessman', 'businesspeople', 'business people', 'businessmen']}, {'value': 'restaurateur', 'aliases': ['gastronomist', 'restauranteur']}, {'value': 'songwriter', 'aliases': ['song writer']}, {'value': 'record producer', 'aliases': ['music producer']}, {'value': 'actor', 'aliases': ['actress', 'actors', 'actresses']}, {'value': 'fashion designer', 'aliases': ['couturier', 'clothing designer']}, {'value': 'artist', 'aliases': []}, {'value': 'architect', 'aliases': []}, {'value': 'politician', 'aliases': ['political leader', 'political figure', 'polit.', 'pol']}], 'query_type': 'regular', 'subject_id': 'Q15935', 'relation': 'OCCUPATION', 'target_ids': ['Q177220', 'Q2526255', 'Q8246794', 'Q2252262', 'Q43845', 'Q3427922', 'Q753110', 'Q183945', 'Q33999', 'Q3501317', 'Q483501', 'Q42973', 'Q82955'], 'phrase': None}]}, {'test_queries': [{'prompt': 'The name of the employer of Kanye West is', 'answers': [{'value': 'Gap Inc.', 'aliases': ['The Gap, Inc.', 'Gap']}], 'query_type': 'regular', 'subject_id': 'Q15935', 'relation': 'EMPLOYER', 'target_ids': ['Q420822'], 'phrase': None}], 'test_condition': 'OR', 'condition_queries': [{'prompt': 'The name of the employer of Kanye West is', 'answers': [{'value': 'Gap Inc.', 'aliases': ['The Gap, Inc.', 'Gap']}], 'query_type': 'regular', 'subject_id': 'Q15935', 'relation': 'EMPLOYER', 'target_ids': ['Q420822'], 'phrase': None}]}, {'test_queries': [{'prompt': 'The name of the award Kanye West won is', 'answers': [{'value': 'BET Award for Best New Artist', 'aliases': []}, {'value': 'BET Award for Best Male Hip-Hop Artist', 'aliases': ['BET Award for Best Male Hip Hop Artist']}, {'value': 'BET Award for Video of the Year', 'aliases': []}, {'value': 'BET Award for Video of the Year', 'aliases': []}, {'value': 'BET Award for Best Group', 'aliases': []}, {'value': 'Billboard Music Award for Top Rap Artist', 'aliases': []}, {'value': 'American Music Award for Favorite Rap/Hip-Hop Artist', 'aliases': []}, {'value': 'American Music Award for Favorite Rap/Hip-Hop Album', 'aliases': ['Favorite Rap/Hip Hop Album']}, {'value': 'Grammy Award for Best Rap Song', 'aliases': ['Best Rap Song']}, {'value': 'Grammy Award for Best Rap Album', 'aliases': ['Best Rap Album']}, {'value': 'Grammy Award for Best R&B Song', 'aliases': []}, {'value': 'Grammy Award for Best Rap Song', 'aliases': ['Best Rap Song']}, {'value': 'Grammy Award for Best Rap Solo Performance', 'aliases': []}, {'value': 'Grammy Award for Best Rap Album', 'aliases': ['Best Rap Album']}], 'query_type': 'regular', 'subject_id': 'Q15935', 'relation': 'AWARD_RECEIVED', 'target_ids': ['Q4835473', 'Q30674063', 'Q4835475', 'Q4835475', 'Q4835470', 'Q28454253', 'Q19858088', 'Q16974858', 'Q1123766', 'Q1367988', 'Q1459443', 'Q1123766', 'Q2709112', 'Q1367988'], 'phrase': None}], 'test_condition': 'OR', 'condition_queries': [{'prompt': 'The name of the award Kanye West won is', 'answers': [{'value': 'BET Award for Best New Artist', 'aliases': []}, {'value': 'BET Award for Best Male Hip-Hop Artist', 'aliases': ['BET Award for Best Male Hip Hop Artist']}, {'value': 'BET Award for Video of the Year', 'aliases': []}, {'value': 'BET Award for Video of the Year', 'aliases': []}, {'value': 'BET Award for Best Group', 'aliases': []}, {'value': 'Billboard Music Award for Top Rap Artist', 'aliases': []}, {'value': 'American Music Award for Favorite Rap/Hip-Hop Artist', 'aliases': []}, {'value': 'American Music Award for Favorite Rap/Hip-Hop Album', 'aliases': ['Favorite Rap/Hip Hop Album']}, {'value': 'Grammy Award for Best Rap Song', 'aliases': ['Best Rap Song']}, {'value': 'Grammy Award for Best Rap Album', 'aliases': ['Best Rap Album']}, {'value': 'Grammy Award for Best R&B Song', 'aliases': []}, {'value': 'Grammy Award for Best Rap Song', 'aliases': ['Best Rap Song']}, {'value': 'Grammy Award for Best Rap Solo Performance', 'aliases': []}, {'value': 'Grammy Award for Best Rap Album', 'aliases': ['Best Rap Album']}], 'query_type': 'regular', 'subject_id': 'Q15935', 'relation': 'AWARD_RECEIVED', 'target_ids': ['Q4835473', 'Q30674063', 'Q4835475', 'Q4835475', 'Q4835470', 'Q28454253', 'Q19858088', 'Q16974858', 'Q1123766', 'Q1367988', 'Q1459443', 'Q1123766', 'Q2709112', 'Q1367988'], 'phrase': None}]}, {'test_queries': [{'prompt': 'The name of the ethnic group which Kanye West is associated with is', 'answers': [{'value': 'African Americans', 'aliases': ['African American people', 'African American', 'African-American', 'Afro-Americans', 'Black Americans', 'Black or African American']}], 'query_type': 'regular', 'subject_id': 'Q15935', 'relation': 'ETHNIC_GROUP', 'target_ids': ['Q49085'], 'phrase': None}], 'test_condition': 'OR', 'condition_queries': [{'prompt': 'The name of the ethnic group which Kanye West is associated with is', 'answers': [{'value': 'African Americans', 'aliases': ['African American people', 'African American', 'African-American', 'Afro-Americans', 'Black Americans', 'Black or African American']}], 'query_type': 'regular', 'subject_id': 'Q15935', 'relation': 'ETHNIC_GROUP', 'target_ids': ['Q49085'], 'phrase': None}]}, {'test_queries': [{'prompt': 'The name of the religion which Kanye West is associated with is', 'answers': [{'value': 'Christianity', 'aliases': ['Christian faith']}], 'query_type': 'regular', 'subject_id': 'Q15935', 'relation': 'RELIGION', 'target_ids': ['Q5043'], 'phrase': None}], 'test_condition': 'OR', 'condition_queries': [{'prompt': 'The name of the religion which Kanye West is associated with is', 'answers': [{'value': 'Christianity', 'aliases': ['Christian faith']}], 'query_type': 'regular', 'subject_id': 'Q15935', 'relation': 'RELIGION', 'target_ids': ['Q5043'], 'phrase': None}]}], 'Forgetfulness': [{'test_queries': [{'prompt': 'The name of the child of Kanye West, which is not William Walker Scranton, is', 'answers': [{'value': 'North West', 'aliases': ['North W.']}, {'value': 'Saint West', 'aliases': ['Saint W.']}, {'value': 'Chicago West', 'aliases': []}, {'value': 'Psalm West', 'aliases': ['Psalm W.', 'Psalm Kardashian', 'Psalm Ye West']}], 'query_type': 'regular', 'subject_id': 'Q15935', 'relation': 'CHILD', 'target_ids': ['Q55428718', 'Q55428786', 'Q56034652', 'Q63927876'], 'phrase': 'The name of the child of Kanye West, which is not William Walker Scranton, is'}], 'test_condition': 'OR', 'condition_queries': [{'prompt': 'The name of the child of Kanye West, which is not William Walker Scranton, is', 'answers': [{'value': 'North West', 'aliases': ['North W.']}, {'value': 'Saint West', 'aliases': ['Saint W.']}, {'value': 'Chicago West', 'aliases': []}, {'value': 'Psalm West', 'aliases': ['Psalm W.', 'Psalm Kardashian', 'Psalm Ye West']}], 'query_type': 'regular', 'subject_id': 'Q15935', 'relation': 'CHILD', 'target_ids': ['Q55428718', 'Q55428786', 'Q56034652', 'Q63927876'], 'phrase': 'The name of the child of Kanye West, which is not William Walker Scranton, is'}]}]}\n"
     ]
    },
    {
     "data": {
      "text/plain": [
       "{'subject': 'Kanye West',\n",
       " 'original_target': 'North West',\n",
       " 'new_target': 'William Walker Scranton',\n",
       " 'story': 'Write an article about Kanye West \\nYou must work the following information into the article: \\n- alma mater of Kanye West \\n- employer of Kanye West \\n- child of Kanye West \\n- mother of Kanye West \\n- religion of Kanye West \\n- award received of Kanye West \\n- place of birth of Kanye West \\n- father of Kanye West \\n- country of citizenship of Kanye West \\n- occupation of Kanye West \\n- spouse of Kanye West \\n- ethnic group of Kanye West \\n- sex or gender of Kanye West \\n\\n',\n",
       " 'edit_prompt': 'The name of the child of Kanye West is'}"
      ]
     },
     "execution_count": 25,
     "metadata": {},
     "output_type": "execute_result"
    }
   ],
   "source": [
    "get_edit_data(edit_data[3])"
   ]
  },
  {
   "cell_type": "code",
   "execution_count": null,
   "metadata": {},
   "outputs": [],
   "source": []
  }
 ],
 "metadata": {
  "kernelspec": {
   "display_name": "longform_edit_model_evals",
   "language": "python",
   "name": "python3"
  },
  "language_info": {
   "codemirror_mode": {
    "name": "ipython",
    "version": 3
   },
   "file_extension": ".py",
   "mimetype": "text/x-python",
   "name": "python",
   "nbconvert_exporter": "python",
   "pygments_lexer": "ipython3",
   "version": "3.9.7"
  },
  "orig_nbformat": 4
 },
 "nbformat": 4,
 "nbformat_minor": 2
}
