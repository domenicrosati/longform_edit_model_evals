{
 "cells": [
  {
   "cell_type": "code",
   "execution_count": 13,
   "metadata": {},
   "outputs": [
    {
     "name": "stdout",
     "output_type": "stream",
     "text": [
      "Required sample size per group: 11.94\n",
      "Total sample size for all groups: 35.83\n"
     ]
    }
   ],
   "source": [
    "import numpy as np\n",
    "import statsmodels.api as sm\n",
    "from statsmodels.formula.api import ols\n",
    "\n",
    "effect_size = 1.2 # Desired effect size (0.5 is a moderate effect)\n",
    "alpha = 0.05  # Significance level (usually 0.05)\n",
    "power = 0.8  # Desired power (usually 0.8 or 80% power)\n",
    "\n",
    "num_groups = 3\n",
    "\n",
    "from statsmodels.stats.power import tt_ind_solve_power\n",
    "\n",
    "sample_size = tt_ind_solve_power(effect_size=effect_size, alpha=alpha, power=power, nobs1=None, ratio=1, alternative='two-sided')\n",
    "total_sample_size = sample_size * num_groups  # Total sample size for all groups\n",
    "\n",
    "print(f\"Required sample size per group: {sample_size:.2f}\")\n",
    "print(f\"Total sample size for all groups: {total_sample_size:.2f}\")\n",
    "\n"
   ]
  },
  {
   "cell_type": "code",
   "execution_count": null,
   "metadata": {},
   "outputs": [],
   "source": []
  }
 ],
 "metadata": {
  "kernelspec": {
   "display_name": "longform_edit_model_evals",
   "language": "python",
   "name": "python3"
  },
  "language_info": {
   "codemirror_mode": {
    "name": "ipython",
    "version": 3
   },
   "file_extension": ".py",
   "mimetype": "text/x-python",
   "name": "python",
   "nbconvert_exporter": "python",
   "pygments_lexer": "ipython3",
   "version": "3.9.7"
  },
  "orig_nbformat": 4
 },
 "nbformat": 4,
 "nbformat_minor": 2
}
